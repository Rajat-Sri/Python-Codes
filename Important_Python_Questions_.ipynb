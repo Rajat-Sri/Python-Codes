{
  "nbformat": 4,
  "nbformat_minor": 0,
  "metadata": {
    "colab": {
      "provenance": [],
      "authorship_tag": "ABX9TyPe+cq6iSx6uSUbLMDRAMes",
      "include_colab_link": true
    },
    "kernelspec": {
      "name": "python3",
      "display_name": "Python 3"
    },
    "language_info": {
      "name": "python"
    }
  },
  "cells": [
    {
      "cell_type": "markdown",
      "metadata": {
        "id": "view-in-github",
        "colab_type": "text"
      },
      "source": [
        "<a href=\"https://colab.research.google.com/github/Rajat-Sri/Python-Codes/blob/main/Important_Python_Questions_.ipynb\" target=\"_parent\"><img src=\"https://colab.research.google.com/assets/colab-badge.svg\" alt=\"Open In Colab\"/></a>"
      ]
    },
    {
      "cell_type": "markdown",
      "source": [
        "**1. Palindrome Check:**\n",
        "Write a function to check if a given string is a palindrome."
      ],
      "metadata": {
        "id": "xt7e7YE-xwx1"
      }
    },
    {
      "cell_type": "code",
      "source": [
        "s = \"malayalam\"\n",
        "\n",
        "if s == s[::-1]:\n",
        "    print(\"Yes\")\n",
        "else:\n",
        "    print(\"No\")\n"
      ],
      "metadata": {
        "colab": {
          "base_uri": "https://localhost:8080/"
        },
        "id": "dsOYwQeNxzko",
        "outputId": "ea8351c0-ca1e-4c56-8a4e-fdff4ded3001"
      },
      "execution_count": 3,
      "outputs": [
        {
          "output_type": "stream",
          "name": "stdout",
          "text": [
            "Yes\n"
          ]
        }
      ]
    },
    {
      "cell_type": "markdown",
      "source": [
        "**2.Reverse a string**"
      ],
      "metadata": {
        "id": "-2OXzy1sJoXy"
      }
    },
    {
      "cell_type": "code",
      "source": [
        "mytxt = \"I wonder how this text looks like backwards\"\n",
        "reversed_text = mytxt[::-1]\n",
        "\n",
        "print(reversed_text)\n"
      ],
      "metadata": {
        "id": "VDbbSHUUKu-N",
        "outputId": "9bd952e8-c632-45a0-9333-d9332eb23080",
        "colab": {
          "base_uri": "https://localhost:8080/"
        }
      },
      "execution_count": 4,
      "outputs": [
        {
          "output_type": "stream",
          "name": "stdout",
          "text": [
            "sdrawkcab ekil skool txet siht woh rednow I\n"
          ]
        }
      ]
    },
    {
      "cell_type": "markdown",
      "source": [
        "**3.Reverse a number**"
      ],
      "metadata": {
        "id": "0stmctZ6LZZC"
      }
    },
    {
      "cell_type": "code",
      "source": [
        "num = 1234\n",
        "reversed_num = int(str(num)[::-1])\n",
        "print(\"Reversed Number:\", reversed_num)\n"
      ],
      "metadata": {
        "id": "xW7KvdmbLZ2D",
        "outputId": "71843912-2a0c-400f-fe79-c5aa7df94a4a",
        "colab": {
          "base_uri": "https://localhost:8080/"
        }
      },
      "execution_count": 5,
      "outputs": [
        {
          "output_type": "stream",
          "name": "stdout",
          "text": [
            "Reversed Number: 4321\n"
          ]
        }
      ]
    },
    {
      "cell_type": "markdown",
      "source": [
        "**4. Swap first and last element of the list.**"
      ],
      "metadata": {
        "id": "15lBZVtlZuKX"
      }
    },
    {
      "cell_type": "code",
      "source": [
        "newList = [12, 35, 9, 56, 24]\n",
        "\n",
        "newList[0], newList[-1] = newList[-1], newList[0]\n",
        "print(newList)\n"
      ],
      "metadata": {
        "id": "QzX1k1_aZ1Ev",
        "outputId": "20405e7f-5147-4e72-9b38-d757c8a7b7b7",
        "colab": {
          "base_uri": "https://localhost:8080/"
        }
      },
      "execution_count": 6,
      "outputs": [
        {
          "output_type": "stream",
          "name": "stdout",
          "text": [
            "[24, 35, 9, 56, 12]\n"
          ]
        }
      ]
    },
    {
      "cell_type": "markdown",
      "source": [
        "**5.Remove Duplicates without changing order**"
      ],
      "metadata": {
        "id": "WrYwa97aagby"
      }
    },
    {
      "cell_type": "code",
      "source": [
        "numbers = [10, 20, 50, 10, 40, 30, 20, 80, 70, 60]\n",
        "\n",
        "unique_numbers = []\n",
        "for num in numbers:\n",
        "    if num not in unique_numbers:\n",
        "        unique_numbers.append(num)\n",
        "\n",
        "print(unique_numbers)\n",
        "\n"
      ],
      "metadata": {
        "id": "82RQpP7UagsI",
        "outputId": "c4ac1886-3eb5-4ced-8482-73181e24c7a2",
        "colab": {
          "base_uri": "https://localhost:8080/"
        }
      },
      "execution_count": 7,
      "outputs": [
        {
          "output_type": "stream",
          "name": "stdout",
          "text": [
            "[10, 20, 50, 40, 30, 80, 70, 60]\n"
          ]
        }
      ]
    },
    {
      "cell_type": "markdown",
      "source": [
        "**6. Find the Sum of Digits in a Number**"
      ],
      "metadata": {
        "id": "12oBInF4lKTu"
      }
    },
    {
      "cell_type": "code",
      "source": [
        "num = 12345\n",
        "total = 0\n",
        "\n",
        "while num > 0:\n",
        "    total += num % 10\n",
        "    num //= 10\n",
        "\n",
        "print(total)\n",
        "\n"
      ],
      "metadata": {
        "id": "z8_qSzSolKqZ",
        "outputId": "9e5220c6-68db-497c-bbfb-08f0330dc4e6",
        "colab": {
          "base_uri": "https://localhost:8080/"
        }
      },
      "execution_count": 8,
      "outputs": [
        {
          "output_type": "stream",
          "name": "stdout",
          "text": [
            "15\n"
          ]
        }
      ]
    },
    {
      "cell_type": "markdown",
      "source": [
        "**7.Find the Maximum and Minimum Elements in a List**"
      ],
      "metadata": {
        "id": "m-GYBmeVlaA1"
      }
    },
    {
      "cell_type": "code",
      "source": [
        "def find_max_min(numbers):\n",
        "    return max(numbers), min(numbers)\n",
        "\n",
        "numbers = [10, 5, 25, 3, 15]\n",
        "max_num, min_num = find_max_min(numbers)\n",
        "print(\"Max:\", max_num)  # Output: 25\n",
        "print(\"Min:\", min_num)  # Output: 3\n"
      ],
      "metadata": {
        "id": "LWdkeoYRlcVX",
        "outputId": "f19f13c9-6400-4109-e8a0-a47412d63789",
        "colab": {
          "base_uri": "https://localhost:8080/"
        }
      },
      "execution_count": 9,
      "outputs": [
        {
          "output_type": "stream",
          "name": "stdout",
          "text": [
            "Max: 25\n",
            "Min: 3\n"
          ]
        }
      ]
    }
  ]
}