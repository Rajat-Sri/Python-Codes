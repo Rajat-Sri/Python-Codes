{
  "nbformat": 4,
  "nbformat_minor": 0,
  "metadata": {
    "colab": {
      "provenance": [],
      "authorship_tag": "ABX9TyMflmcjkkwz3/7y7hi7OxpE",
      "include_colab_link": true
    },
    "kernelspec": {
      "name": "python3",
      "display_name": "Python 3"
    },
    "language_info": {
      "name": "python"
    }
  },
  "cells": [
    {
      "cell_type": "markdown",
      "metadata": {
        "id": "view-in-github",
        "colab_type": "text"
      },
      "source": [
        "<a href=\"https://colab.research.google.com/github/Rajat-Sri/Python-Codes/blob/main/Important_Python_Questions_.ipynb\" target=\"_parent\"><img src=\"https://colab.research.google.com/assets/colab-badge.svg\" alt=\"Open In Colab\"/></a>"
      ]
    },
    {
      "cell_type": "markdown",
      "source": [
        "**1. Palindrome Check:**\n",
        "Write a function to check if a given string is a palindrome."
      ],
      "metadata": {
        "id": "xt7e7YE-xwx1"
      }
    },
    {
      "cell_type": "code",
      "source": [
        "def isPalindrome(s):\n",
        "    return s == s[::-1]\n",
        "\n",
        "s = \"malayalam\"\n",
        "ans = isPalindrome(s)\n",
        "\n",
        "if ans:\n",
        "    print(\"Yes\")\n",
        "else:\n",
        "    print(\"No\")"
      ],
      "metadata": {
        "colab": {
          "base_uri": "https://localhost:8080/"
        },
        "id": "dsOYwQeNxzko",
        "outputId": "70367538-8d56-44c0-8a98-be76dded284b"
      },
      "execution_count": null,
      "outputs": [
        {
          "output_type": "stream",
          "name": "stdout",
          "text": [
            "Yes\n"
          ]
        }
      ]
    },
    {
      "cell_type": "code",
      "source": [
        "isPalindrome('madam')"
      ],
      "metadata": {
        "colab": {
          "base_uri": "https://localhost:8080/"
        },
        "id": "ILbuB5jIy1x3",
        "outputId": "af6d7209-18d6-4cf2-f58f-0e9f52074146"
      },
      "execution_count": null,
      "outputs": [
        {
          "output_type": "execute_result",
          "data": {
            "text/plain": [
              "True"
            ]
          },
          "metadata": {},
          "execution_count": 2
        }
      ]
    },
    {
      "cell_type": "markdown",
      "source": [
        "**2.Reverse a string**"
      ],
      "metadata": {
        "id": "-2OXzy1sJoXy"
      }
    },
    {
      "cell_type": "code",
      "source": [
        "def my_function(x):\n",
        "  return x[::-1]\n",
        "\n",
        "mytxt = my_function(\"I wonder how this text looks like backwards\")\n",
        "\n",
        "print(mytxt)"
      ],
      "metadata": {
        "id": "VDbbSHUUKu-N",
        "outputId": "2bf87bff-6eb3-47d6-cdd9-51db368cdd30",
        "colab": {
          "base_uri": "https://localhost:8080/"
        }
      },
      "execution_count": null,
      "outputs": [
        {
          "output_type": "stream",
          "name": "stdout",
          "text": [
            "sdrawkcab ekil skool txet siht woh rednow I\n"
          ]
        }
      ]
    },
    {
      "cell_type": "markdown",
      "source": [
        "**3.Reverse a number**"
      ],
      "metadata": {
        "id": "0stmctZ6LZZC"
      }
    },
    {
      "cell_type": "code",
      "source": [
        "def reverse_number(num):\n",
        "    reversed_num = 0\n",
        "    while num != 0:\n",
        "        digit = num % 10\n",
        "        reversed_num = reversed_num * 10 + digit\n",
        "        num //= 10\n",
        "    return reversed_num\n",
        "\n",
        "num = 1234\n",
        "reversed_num = reverse_number(num)\n",
        "print(\"Reversed Number:\", reversed_num)"
      ],
      "metadata": {
        "id": "xW7KvdmbLZ2D",
        "outputId": "408d7f2f-7435-4df6-a58e-81f7cbed0cb5",
        "colab": {
          "base_uri": "https://localhost:8080/"
        }
      },
      "execution_count": null,
      "outputs": [
        {
          "output_type": "stream",
          "name": "stdout",
          "text": [
            "Reversed Number: 4321\n"
          ]
        }
      ]
    },
    {
      "cell_type": "markdown",
      "source": [
        "**4. Swap first and last element of the list.**"
      ],
      "metadata": {
        "id": "15lBZVtlZuKX"
      }
    },
    {
      "cell_type": "code",
      "source": [
        "# Swap function\n",
        "def swapList(newList):\n",
        "    newList[0], newList[-1] = newList[-1], newList[0]\n",
        "    return newList\n",
        "\n",
        "# Driver code\n",
        "newList = [12, 35, 9, 56, 24]\n",
        "\n",
        "print(swapList(newList))"
      ],
      "metadata": {
        "id": "QzX1k1_aZ1Ev",
        "outputId": "a8f3b65d-f15e-48e7-c023-7f86af01327f",
        "colab": {
          "base_uri": "https://localhost:8080/"
        }
      },
      "execution_count": 1,
      "outputs": [
        {
          "output_type": "stream",
          "name": "stdout",
          "text": [
            "[24, 35, 9, 56, 12]\n"
          ]
        }
      ]
    },
    {
      "cell_type": "markdown",
      "source": [
        "**5.Remove Duplicates without changing order**"
      ],
      "metadata": {
        "id": "WrYwa97aagby"
      }
    },
    {
      "cell_type": "code",
      "source": [
        "# Define a list with duplicates\n",
        "numbers = [10, 20, 50, 10, 40, 30, 20, 80, 70, 60]\n",
        "\n",
        "unique_numbers = []\n",
        "for num in numbers:\n",
        "    if num not in unique_numbers:\n",
        "        unique_numbers.append(num)\n",
        "\n",
        "print(unique_numbers)\n"
      ],
      "metadata": {
        "id": "82RQpP7UagsI",
        "outputId": "e390a1a5-ab24-4a39-92f5-92f9f1af8afd",
        "colab": {
          "base_uri": "https://localhost:8080/"
        }
      },
      "execution_count": 7,
      "outputs": [
        {
          "output_type": "stream",
          "name": "stdout",
          "text": [
            "[10, 20, 50, 40, 30, 80, 70, 60]\n"
          ]
        }
      ]
    }
  ]
}